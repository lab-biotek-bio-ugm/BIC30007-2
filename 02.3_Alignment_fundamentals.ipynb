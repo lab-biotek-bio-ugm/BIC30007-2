{
 "cells": [
  {
   "cell_type": "markdown",
   "metadata": {},
   "source": [
    "### [BIC30007 - _Sequence Alignment Fundamentals, Algorithm, and Application_](http://ugm.id/BIC30007practical02)"
   ]
  },
  {
   "cell_type": "markdown",
   "metadata": {},
   "source": [
    "### Local Alignment\n",
    "#### Limitasi Algoritma Waterman\n",
    "Pada praktikum ini kita akan melakukan local alignment dari 2 sekuen, yaitu sequence1 dan sequence 2:"
   ]
  },
  {
   "cell_type": "code",
   "execution_count": null,
   "metadata": {},
   "outputs": [],
   "source": [
    "! matcher Data/sequence1.fasta Data/sequence2.fasta stdout"
   ]
  },
  {
   "cell_type": "markdown",
   "metadata": {},
   "source": [
    "* Seberapa mirip kah kedua sekuen tersebut?\n",
    "\n",
    "Mari kita coba _reverse_ salah satu sekuen di atas:"
   ]
  },
  {
   "cell_type": "code",
   "execution_count": null,
   "metadata": {},
   "outputs": [],
   "source": [
    "! matcher -sreverse1 Data/sequence1.fasta Data/sequence2.fasta stdout"
   ]
  },
  {
   "cell_type": "markdown",
   "metadata": {},
   "source": [
    "* Seberapa mirip kah kedua sekuen tersebut? Apa yang membedakan dengan alignment sebelumnya?\n",
    "* Apa yang bisa kamu simpulkan dari kedua sekuen tersebut?"
   ]
  },
  {
   "cell_type": "markdown",
   "metadata": {},
   "source": [
    "#### Protein Homolog\n",
    "Mari kita coba sejajarkan sekuen DNA pengkode protein cyclin di manusia dan anjing:"
   ]
  },
  {
   "cell_type": "code",
   "execution_count": null,
   "metadata": {},
   "outputs": [],
   "source": [
    "! matcher Data/CDKL4.human.fasta Data/cyclin.dog.fasta stdout"
   ]
  },
  {
   "cell_type": "markdown",
   "metadata": {},
   "source": [
    "* Seberapa mirip kah kedua sekuen tersebut?\n",
    "* Apakah kita bisa menggunakan algoritma global untuk melakukan pensejajaran pada kedua sekuen tersebut?\n",
    "\n",
    "#### Conserved regions\n",
    "Tidak semua _region_ dari dua protein homolog memiliki variasi yang mirip. Ada bagian dari protein yang lebih _conserve_ dibandingkan bagian yang lain.\n",
    "\n",
    "Mari kita coba sejajarkan sekuen frataxin dari manusia dan nyamuk Aedes:"
   ]
  },
  {
   "cell_type": "code",
   "execution_count": null,
   "metadata": {},
   "outputs": [],
   "source": [
    "! matcher Data/frataxin.human.gb Data/frataxin.aedes.gb stdout"
   ]
  },
  {
   "cell_type": "markdown",
   "metadata": {},
   "source": [
    "* Mengapa ada _region_ yang tidak disejajarkan?\n",
    "* Mengapa suatu _region_ bisa lebih mirip dibandingkan _region_ yang lain?\n",
    "* Apakah ada yang spesial dari asam amino ke- 92, 100, 101, 104, 108, 111, 112, 122 and 124 pada protein frataxin di manusia? _**#hint :** buka file .gb dengan text editor._\n",
    "\n",
    "Mari kita coba memodifikasi parameter dari algoritma pensejajaran dengan mengubah gapopen set menjadi 4:"
   ]
  },
  {
   "cell_type": "code",
   "execution_count": null,
   "metadata": {},
   "outputs": [],
   "source": [
    "! matcher Data/frataxin.human.gb Data/frataxin.aedes.gb stdout -gapopen 4"
   ]
  },
  {
   "cell_type": "markdown",
   "metadata": {},
   "source": [
    "* Apakah hasil pensejajaran ini lebih baik dari sebelumnya?\n",
    "\n",
    "Seperti yang sudah kita coba pada bagian sebelum ini, algoritma pensejajaran dapat memberikan lebih dari 1 alternatif, namun secara _default_, hanya satu hasil yang diberikan.\n",
    "\n",
    "Kita dapat memunculkan 3 alternatif lain dari pensejajaran diatas dengan menambahkan parameter berikut:"
   ]
  },
  {
   "cell_type": "code",
   "execution_count": null,
   "metadata": {},
   "outputs": [],
   "source": [
    "! matcher Data/frataxin.human.gb Data/frataxin.aedes.gb stdout -alternatives 3"
   ]
  },
  {
   "cell_type": "markdown",
   "metadata": {},
   "source": [
    "### Global alignments\n",
    "Mari kita coba lakukan pensejajaran ulang dari kedua sekuen terakhir dengan menggunakan needle:"
   ]
  },
  {
   "cell_type": "code",
   "execution_count": null,
   "metadata": {},
   "outputs": [],
   "source": [
    "! needle Data/frataxin.human.gb Data/frataxin.aedes.gb stdout -auto"
   ]
  },
  {
   "cell_type": "markdown",
   "metadata": {},
   "source": [
    "* Apakah hasilnya lebih baik atau lebih buruk dari local alignment? Kenapa?"
   ]
  },
  {
   "cell_type": "markdown",
   "metadata": {},
   "source": [
    "## Aplikasi: Mencari Ekson & Intron\n",
    "Kita dapat menggunakan alignment untuk menentukan ekson dan intron dari suatu gen. Kita akan mencoba membandingkan bagian genom dan cDNA dari gen AT3G4905 Arabidopsis.\n",
    "\n",
    "EMBOSS memiliki program yang terspesialisasi untuk melakukan analisis mRNA dari sekuen genomik (Expressed Sequence Tags / EST)."
   ]
  },
  {
   "cell_type": "code",
   "execution_count": null,
   "metadata": {},
   "outputs": [],
   "source": [
    "! est2genome Data/AT3G4905.1.cdna.fasta Data/AT3G4905.1.genom.fasta stdout -auto"
   ]
  },
  {
   "cell_type": "markdown",
   "metadata": {},
   "source": [
    "* Apa ciri khas dari mRNA sehingga perlu dibuat algortima pensejajaran yang lebih spesifik?\n",
    "* Ada berapa intron yang terdapat pada AT3G4905?\n",
    "\n",
    "Kita  dapat memperoleh juga hasil pensejajaran dengan menambahkan parameter berikut:"
   ]
  },
  {
   "cell_type": "code",
   "execution_count": null,
   "metadata": {},
   "outputs": [],
   "source": [
    "! est2genome Data/AT3G4905.1.cdna.fasta Data/AT3G4905.1.genom.fasta stdout -align -auto"
   ]
  },
  {
   "cell_type": "markdown",
   "metadata": {},
   "source": [
    "* Apakah needle atau matcher menghasilkan output alignment yang sama?\n",
    "\n",
    "## Aktivitas 1\n",
    "* Coba lakukan pensejajaran antara CDS dengan sekuen genom! Apakah hasilnya mirip dengan hasil pensejajaran dengan cDNA?"
   ]
  },
  {
   "cell_type": "code",
   "execution_count": null,
   "metadata": {},
   "outputs": [],
   "source": [
    "# Write your code here\n",
    "# hint: gunakan est2genome\n",
    "# hint: file CDS ada di Data/AT3G4905.1.cds.fasta\n",
    "\n",
    "\n",
    "\n"
   ]
  },
  {
   "cell_type": "markdown",
   "metadata": {},
   "source": [
    "* Coba lakukan pensejajaran antara CDS dengan mRNA! Apakah yang dapat anda simpulkan?"
   ]
  },
  {
   "cell_type": "code",
   "execution_count": null,
   "metadata": {},
   "outputs": [],
   "source": [
    "# Write your code here\n",
    "# hint: gunakan matcher / needle\n",
    "# hint: file CDS ada di Data/AT3G4905.1.cds.fasta\n",
    "\n",
    "\n"
   ]
  },
  {
   "cell_type": "markdown",
   "metadata": {},
   "source": [
    "## Aktivitas 2\n",
    "Anda hendak melakukan amplifikasi sebagian sekuen dari Cyclin CDS dengan menggunakan dua primer: (1) primerf dan (2) primerr.\n",
    "\n",
    "* Coba cari lokasi dari kedua primer tersebut!"
   ]
  },
  {
   "cell_type": "code",
   "execution_count": null,
   "metadata": {},
   "outputs": [],
   "source": [
    "# Write your code here\n",
    "# hint: gunakan matcher\n",
    "# hint: sekuen yang digunakan yaitu Data/CDKL4.human.fasta\n",
    "# hint: primer f ada di Data/primerf.fasta\n",
    "\n",
    "\n"
   ]
  },
  {
   "cell_type": "code",
   "execution_count": null,
   "metadata": {},
   "outputs": [],
   "source": [
    "# Write your code here\n",
    "# Write your code here\n",
    "# hint: gunakan matcher\n",
    "# hint: sekuen yang digunakan yaitu Data/CDKL4.human.fasta\n",
    "# hint: primer f ada di Data/primerr.fasta\n",
    "\n",
    "\n",
    "\n"
   ]
  }
 ],
 "metadata": {
  "kernelspec": {
   "display_name": "Python 3",
   "language": "python",
   "name": "python3"
  },
  "language_info": {
   "codemirror_mode": {
    "name": "ipython",
    "version": 3
   },
   "file_extension": ".py",
   "mimetype": "text/x-python",
   "name": "python",
   "nbconvert_exporter": "python",
   "pygments_lexer": "ipython3",
   "version": "3.8.1"
  }
 },
 "nbformat": 4,
 "nbformat_minor": 4
}
