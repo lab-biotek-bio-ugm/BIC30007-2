{
 "cells": [
  {
   "cell_type": "markdown",
   "metadata": {},
   "source": [
    "### [BIC30007 - _Sequence Alignment Fundamentals, Algorithm, and Application_](http://ugm.id/BIC30007practical02)\n",
    "# Aplikasi pensejajaran sekuen untuk identifikasi spesies (DNA Barcoding)"
   ]
  },
  {
   "cell_type": "markdown",
   "metadata": {},
   "source": [
    "## Pengantar\n",
    "Pada tutorial ini, anda akan melakukan pemrosesan data hasil sanger sequencing dan mengidentifikasi sekuen yang diperoleh. Sampel berasal dari hasil ekstraksi DNA jaringan hewan yang diperoleh dari alam. DNA yang sudah diekstraksi dijadikan sebagai template PCR dengan menggunakan sepasang primer COI, yaitu:\n",
    "* Forward primer (HCO2198) = `5'-TAAACTTCAGGGTGACCAAAAAATCA-3'`\n",
    "* Reverse primer (LCO1490) = `5'-GGTCAACAAATCATAAAGATATTGG-3'`\n",
    "\n",
    "Produk PCR yang diperoleh kemudian dikirim untuk dilakukan sanger sequencing. Sequencing dilakukan dengan masing-masing primer sehingga diperoleh sepasang hasil sequencing berupa 2 ABI trace file (forward dan reverse). "
   ]
  },
  {
   "cell_type": "markdown",
   "metadata": {},
   "source": [
    "## Visualisasi Kromatogram Hasil Sequencing\n",
    "* Jika anda berhasil melakukan git clone, maka anda telah mengunduh folder baru dengan nama “`BIC30007-2`” yang berisi notebook tutorial (`.ipynb`) dan folder “`data`”.\n",
    "* Anda dapat menemukan sepasang **[file](data/1st_BASE_3766078_S1_F.ab1)** dengan ekstensi `.ab1` di folder “`data`” yang tidak dapat dibaca di Jupyter Lab.\n",
    "* File dengan ekstensi `.ab1` tersebut merupakan raw data hasil sanger sequencing dari sebuah sampel DNA Barcoding (Gen COI). \n",
    "* Masing-masing file menunjukkan hasil forward dan reverse sequencing dari gen COI hewan yang belum diketahui spesiesnya.\n",
    "* Selanjutnya, kita akan membaca ab1 trace file dengan menggunakan Benchling.\n",
    "* Login ke akun Benchling yang telah dibuat di **[Benchling](https://benchling.com/)**.\n",
    "* Ikuti langkah-langkah pada slide berikut: "
   ]
  },
  {
   "cell_type": "code",
   "execution_count": null,
   "metadata": {},
   "outputs": [],
   "source": [
    "%%html\n",
    "<iframe src=\"https://docs.google.com/presentation/d/e/2PACX-1vR-f1V4Ag9BokpaCUVWBQ6Ja4jPX8G_kp6LHDO9XpzF3co0QGaox_OepecjJkAmsXJufv4tChkBxyIe/embed?start=false&loop=false&delayms=3000\" frameborder=\"0\" width=\"720\" height=\"423\" allowfullscreen=\"true\" mozallowfullscreen=\"true\" webkitallowfullscreen=\"true\"></iframe>"
   ]
  },
  {
   "cell_type": "markdown",
   "metadata": {},
   "source": [
    "Jika anda tidak bisa melihat tampilan interaktif slide di atas, silahkan dibuka pada **[link ini](https://docs.google.com/presentation/d/1bF3T5YeePtdQWE5FPj91GBkAo7rIzMm4_eT-8Tpe2x4/edit?usp=sharing)**."
   ]
  },
  {
   "cell_type": "markdown",
   "metadata": {},
   "source": [
    "## Membaca hasil sanger Sequencing & Sequence File Formats\n",
    "Pada praktikum ini kita akan menggunakan BioPython untuk membaca dan menulis beberapa file format yang digunakan untuk menyimpan data hasil sequencing.\n",
    "\n",
    "Pertama-tama, load library SeqIO dari BioPython:"
   ]
  },
  {
   "cell_type": "code",
   "execution_count": null,
   "metadata": {},
   "outputs": [],
   "source": [
    "from Bio import SeqIO\n",
    "from pathlib import Path\n",
    "# jika BioPython belum terinstall silahkan install dulu dengan mengetik pada terminal:\n",
    "# conda install -c conda-forge biopython"
   ]
  },
  {
   "cell_type": "markdown",
   "metadata": {},
   "source": [
    "_**Trivia :** Salah satu developer BioPython, dan kontributor untuk parser ABI sanger sequencing adalah orang Indonesia. Coba cari tahu siapa dia!_\n",
    "\n",
    "### Pengaturan folder input dan output\n",
    "Kita akan mengatur lokasi input dan output dari analisis notebook ini dengan menggunakan fungsi [`pathlib`](https://docs.python.org/3/library/pathlib.html) dari Python."
   ]
  },
  {
   "cell_type": "code",
   "execution_count": null,
   "metadata": {},
   "outputs": [],
   "source": [
    "# Set up paths\n",
    "data_dir = Path('data')\n",
    "# Jika output dari data_dir.is_dir() adalah False, sesuaikan value dari data_dir dengan lokasi yang benar\n",
    "assert data_dir.is_dir(), f\"Folder {data_dir} tidak ditemukan, sesuaikan value dari data_dir dengan lokasi yang benar!\"\n",
    "\n",
    "# Set up output directory\n",
    "output_dir = Path('results/02.1')\n",
    "output_dir.mkdir(parents=True, exist_ok=True)\n",
    "\n",
    "# contoh penggunaan pathlib\n",
    "contoh_path = data_dir / \"1st_BASE_3766078_S1_F.ab1\" # menambahkan child dir atau file dengan notasi \"/\"\n",
    "print(contoh_path, contoh_path.is_file()) # Melakukan pengecekan apakah path yang diberikan berupa file atau bukan"
   ]
  },
  {
   "cell_type": "markdown",
   "metadata": {},
   "source": [
    "### ABI file \n",
    "_ABI trace file_ adalah hasil bacaan dari Sanger Sequencing dengan _capillary electrophoresis_. File ini merupakan raw data yang berisi _peak_ kromatogram dan juga _PHRED quality scores_ yang digunakan untuk _base calling_."
   ]
  },
  {
   "cell_type": "code",
   "execution_count": null,
   "metadata": {},
   "outputs": [],
   "source": [
    "# Parse abi file dengan BioPython, output berupa sequence id\n",
    "for record in SeqIO.parse(data_dir / \"1st_BASE_3766078_S1_F.ab1\", \"abi\"):\n",
    "    print(record.id)"
   ]
  },
  {
   "cell_type": "code",
   "execution_count": null,
   "metadata": {},
   "outputs": [],
   "source": [
    "# print sequence hasil bacaan\n",
    "print(\"Panjang sequence = \" + str(len(record.seq)) + \" bp\") # print panjang sekuen berapa\n",
    "print(record.seq)"
   ]
  },
  {
   "cell_type": "code",
   "execution_count": null,
   "metadata": {},
   "outputs": [],
   "source": [
    "# print PHRED score dari setiap nukleotida\n",
    "print(record.letter_annotations)"
   ]
  },
  {
   "cell_type": "markdown",
   "metadata": {},
   "source": [
    "#### Diskusi\n",
    "Pada contoh di atas, kita dapat melihat bahwa setiap nukleotida hasil bacaan dari Sanger sequencing memiliki Phred score masing-masing\n",
    "* Apa itu _base calling_ dan _Phred quality score_? _**hint:** wikipedia_\n",
    "* Berapa nilai Phred quality yang menunjukkan akurasi 99.9999%?\n",
    "* Perhatikan nilai Phred pada awal dan akhir sequence (lihat visualisasinya di Benchling)! Apa yang terjadi? \n",
    "\n",
    "### FASTQ\n",
    "FASTQ files memiliki format yang mirip dengan file FASTA. Meskipun demikian, FASTQ file tidak hanya berisi informasi sequence, dia juga menyimpan informasi kualitas hasil sequencing (PHRED).\n",
    "Script berikut akan menghasilkan file baru dengan format fastq dari _trace file_ yang kita baca:"
   ]
  },
  {
   "cell_type": "code",
   "execution_count": null,
   "metadata": {},
   "outputs": [],
   "source": [
    "SeqIO.write(record, output_dir / f\"{record.id}.fastq\", \"fastq-sanger\")"
   ]
  },
  {
   "cell_type": "markdown",
   "metadata": {},
   "source": [
    "Silahkan buka file FASTQ yang dihasilkan pada folder anda (ada di panel sebelah kiri) dan perhatikan strukturnya.\n",
    "#### Diskusi\n",
    "* Dimana perbedaan struktur format FASTA dan FASTQ?\n",
    "* Pada file tersebut, informasi kualitas bacaan sequencing berada pada bagian bawah setelah data sequence. Apa maksud dari karakter tersebut? \n",
    "* Kenapa format kualitas di encode dalam karakter ASCII, bukan berupa angka seperti PHRED? _**Hint :** ASCII adalah karakter yang ada pada keyboard anda_\n",
    "\n",
    "### Quality Trimming & FASTA"
   ]
  },
  {
   "cell_type": "code",
   "execution_count": null,
   "metadata": {},
   "outputs": [],
   "source": [
    "# Parse abi file using BioPython, quality trimming with Mott’s algorithm\n",
    "for record_trim in SeqIO.parse(data_dir / \"1st_BASE_3766078_S1_F.ab1\", \"abi-trim\"):\n",
    "    print(record_trim.id)"
   ]
  },
  {
   "cell_type": "code",
   "execution_count": null,
   "metadata": {},
   "outputs": [],
   "source": [
    "# print sequence hasil bacaan\n",
    "print(\"Panjang sequence = \" + str(len(record_trim.seq)) + \" bp\") # print panjang sekuen berapa\n",
    "\n",
    "print(record_trim.seq)"
   ]
  },
  {
   "cell_type": "markdown",
   "metadata": {},
   "source": [
    "* Apakah panjang sequence setelah dilakukan trimming sama?\n",
    "* Mengapa hasil raw data dari sanger sequencing perlu dilakukan quality control dan trimming?\n",
    "* Coba cari tahu siapa author dari Mott’s algorithm!"
   ]
  },
  {
   "cell_type": "code",
   "execution_count": null,
   "metadata": {},
   "outputs": [],
   "source": [
    "### FASTA\n",
    "SeqIO.write(record_trim, output_dir / f\"{record_trim.id}.fasta\", \"fasta\")"
   ]
  },
  {
   "cell_type": "markdown",
   "metadata": {},
   "source": [
    "## <mark>Aktivitas<mark>\n",
    "* <mark>Dengan menggunakan template script diatas, baca trace file abi yang merupakan pasangan dari sekuen sebelumnya (hasil bacaan reverse primer) yaitu di `data/1st_BASE_3766079_S1_R.ab1`.<mark>\n",
    "* <mark>Buatlah file FASTQ dan FASTA dari sekuen tersebut!<mark>"
   ]
  },
  {
   "cell_type": "code",
   "execution_count": null,
   "metadata": {},
   "outputs": [],
   "source": [
    "# Ubahlah kode berikut untuk menghasilkan file fastq dan fasta dari 1st_BASE_3766079_S1_R.ab1:\n",
    "\n",
    "for record_trim in SeqIO.parse(<data here>, \"abi-trim\"): # gunakan input_dir\n",
    "    print(record_trim.id)\n",
    "    \n",
    "SeqIO.write(record_trim, output_dir / f\"{record_trim.id}.<format>\", \"<format>\") # gunakan output_dir\n",
    "# ingat, ada dua file/format yang perlu dihasilkan"
   ]
  },
  {
   "cell_type": "markdown",
   "metadata": {},
   "source": [
    "### Consensus Sequence\n",
    "Selanjutnya kita akan membuat consensus sequence dari pasangan data forward dan reverse dengan menggunakan tools dari _EMBOSS_, yaitu _merger_"
   ]
  },
  {
   "cell_type": "code",
   "execution_count": null,
   "metadata": {},
   "outputs": [],
   "source": [
    "# jika EMBOSS belum terinstall, silahkan install terlebih dahulu dengan mengetik pada terminal:\n",
    "# conda install -c bioconda emboss\n",
    "! merger {output_dir}/3766078_S1_F.fasta {output_dir}/3766079_S1_R.fasta -sreverse2 -outseq {output_dir}/merged_S1.fasta -outfile {output_dir}/merged_S1.merger\n",
    "f = open(output_dir / \"merged_S1.merger\", \"r\")\n",
    "f.read().splitlines()"
   ]
  },
  {
   "cell_type": "markdown",
   "metadata": {},
   "source": [
    "#### Diskusi\n",
    "* <mark>Apa itu EMBOSS?<mark>\n",
    "* <mark>Algoritma apa yang digunakan oleh EMBOSS - merger?<mark>\n",
    "* <mark>Mengapa salah satu sekuens harus di reverse sebelum menggunakan merger?<mark>\n",
    "\n",
    "### Pensejajaran sekuens dengan database NCBI (BLAST)\n",
    "* <mark>Coba cari tahu spesies apa yang diperoleh dari hasil sequencing dengan NCBI BLAST (https://blast.ncbi.nlm.nih.gov) _**hint :** merged_S1.fasta_<mark>\n",
    "\n",
    "_**Trivia :** Kamu juga dapat melakukan BLAST request ke NCBI melalui BioPython, namun hal tersebut tidak akan kita bahas dalam praktikum ini._\n",
    "\n",
    "#### Klik link di bawah untuk kembali ke Modul Utama:\n",
    "### [BIC30007 - _Sequence Alignment Fundamentals, Algorithm, and Application_](http://ugm.id/BIC30007practical02)"
   ]
  }
 ],
 "metadata": {
  "kernelspec": {
   "display_name": "Python 3 (ipykernel)",
   "language": "python",
   "name": "python3"
  },
  "language_info": {
   "codemirror_mode": {
    "name": "ipython",
    "version": 3
   },
   "file_extension": ".py",
   "mimetype": "text/x-python",
   "name": "python",
   "nbconvert_exporter": "python",
   "pygments_lexer": "ipython3",
   "version": "3.10.2"
  }
 },
 "nbformat": 4,
 "nbformat_minor": 4
}
