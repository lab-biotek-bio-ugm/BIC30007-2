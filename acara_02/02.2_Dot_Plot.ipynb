{
 "cells": [
  {
   "cell_type": "markdown",
   "metadata": {},
   "source": [
    "### [BIC30007 - _Sequence Alignment Fundamentals, Algorithm, and Application_](http://ugm.id/BIC30007practical02)\n",
    "# 02.2 _Dot Plot_"
   ]
  },
  {
   "cell_type": "markdown",
   "metadata": {},
   "source": [
    "## Pengantar\n",
    "Pada tutorial sebelumnya, kita telah mengaplikasikan pensejajaran sekuen untuk identifikasi spesies (DNA Barcoding). Pensejajaran sekuen baru dengan sekuen biologis yang telah diketahui dapat memberikan gambaran mengenai fungsi dan asal-usul evolusionernya. Pada tutorial ini, kita akan mempelajari prinsip dan teknik komputasi yang digunakan untuk melakukan dan mengevaluasi pensejajaran sekuen.\n",
    "\n",
    "## 1. Dot Plot\n",
    "Metode Dot Plot digunakan untuk melakukan perbandingan visual antara dua sekuen. Pada contoh yang paling sederhana, 2 sekuen dibandingkan dengan menggunakan matrix, dimana satu sekuen berada pada sumbu vertikal, dan satunya lagi pada sumbu horizontal. Saat terjadi kesamaan _(match)_ pada posisi horizontal, maka sebuah titik akan dibuat. \n",
    "\n",
    "![dotplot_sederhana](images/DOT_PLOT.png)\n",
    "\n",
    "Metode dotplot yang lebih kompleks menggunakan _**\"sliding windows\"**_ dan _**\"threshold value\"**_ untuk menentukan apakah sebuah segmen dari kedua sekuen yang dibandingkan memiliki kesamaan atau tidak."
   ]
  },
  {
   "cell_type": "code",
   "execution_count": null,
   "metadata": {},
   "outputs": [],
   "source": [
    "# load Library\n",
    "from IPython.display import Image\n",
    "from pathlib import Path\n",
    "\n",
    "### Pengaturan folder input dan output\n",
    "# Set up paths\n",
    "data_dir = Path('data')\n",
    "# Jika output dari data_dir.is_dir() adalah False, sesuaikan value dari data_dir dengan lokasi yang benar\n",
    "assert data_dir.is_dir(), f\"Folder {data_dir} tidak ditemukan, sesuaikan value dari data_dir dengan lokasi yang benar!\"\n",
    "\n",
    "# Set up output directory\n",
    "output_dir = Path('results/02.2')\n",
    "output_dir.mkdir(parents=True, exist_ok=True)"
   ]
  },
  {
   "cell_type": "markdown",
   "metadata": {},
   "source": [
    "### 1.1 Analisis struktur gen: Ekson dan Intron\n",
    "Kita dapat mempelajari struktur ekson dan intron dari sebuah gen secara visual dengan menggunakan EMBOSS - dotmatcher.\n",
    "\n",
    "Pada script di bawah, kita akan membandingkan struktur bagian genom Arabidopsis (AT3G52905.1) dengan salah satu cDNA:\n",
    "\n",
    "_**PS: karakter \"!\" di depan berarti bahwa script berjalan di terminal**_"
   ]
  },
  {
   "cell_type": "code",
   "execution_count": null,
   "metadata": {},
   "outputs": [],
   "source": [
    "# jika EMBOSS belum terinstall, silahkan install terlebih dahulu dengan mengetik pada terminal:\n",
    "# conda install -c bioconda emboss\n",
    "! dotmatcher {data_dir}/AT3G4905.1.genom.fasta {data_dir}/AT3G4905.1.cdna.fasta -graph png -goutfile {output_dir}/01_AT3G4905\n",
    "Image(filename=output_dir / '01_AT3G4905.1.png')"
   ]
  },
  {
   "cell_type": "markdown",
   "metadata": {},
   "source": [
    "#### Diskusi\n",
    "* Mengapa banyak _\"noise\"_ yang muncul pada dot plot di atas?\n",
    "* Parameter apa yang dapat kita gunakan untuk memperbaiki tampilan dot plot di atas?\n",
    "\n",
    "Coba jalankan script di bawah ini:"
   ]
  },
  {
   "cell_type": "code",
   "execution_count": null,
   "metadata": {},
   "outputs": [],
   "source": [
    "! dotmatcher -windowsize 10 -threshold 35 {data_dir}/AT3G4905.1.genom.fasta {data_dir}/AT3G4905.1.cdna.fasta -graph png -goutfile {output_dir}/02_AT3G4905_strict\n",
    "Image(filename=output_dir / '02_AT3G4905_strict.1.png')"
   ]
  },
  {
   "cell_type": "markdown",
   "metadata": {},
   "source": [
    "#### Diskusi\n",
    "* Coba cari tahu apa yang dimaksud dengan _\"window size\"_ dan _\"threshold value\"_!\n",
    "* Kenapa garis diagonal utama terpisah menjadi beberapa fragmen? "
   ]
  },
  {
   "cell_type": "markdown",
   "metadata": {},
   "source": [
    "### 1.2 Membandingkan gen yang berkerabat dekat\n",
    "Kita juga dapat mempelajari region homolog antara dua protein, satu dari manusia dan satu dari anjing. Mari kita bandingkan coding sequence (CDS) dari gen CDKL4 antara manusia dan anjing:"
   ]
  },
  {
   "cell_type": "code",
   "execution_count": null,
   "metadata": {},
   "outputs": [],
   "source": [
    "! dotmatcher -windowsize 15 -threshold 35 {data_dir}/CDKL4.human.fasta {data_dir}/cyclin.dog.fasta -graph png -goutfile {output_dir}/03_CDKL4\n",
    "Image(filename=output_dir / '03_CDKL4.1.png')"
   ]
  },
  {
   "cell_type": "markdown",
   "metadata": {},
   "source": [
    "#### Diskusi\n",
    "* Apakah terdapat kemiripan antara CDS manusia dan anjing?\n",
    "* Mengapa sebagian region DNA/genom memiliki kemiripan yang tinggi meskipun berasal dari spesies yang berbeda?\n",
    "\n",
    "Selanjutnya, kita akan mencoba membandingkan sekuen mRNA dari α dan β-globin"
   ]
  },
  {
   "cell_type": "code",
   "execution_count": null,
   "metadata": {},
   "outputs": [],
   "source": [
    "! dotmatcher -windowsize 25 -threshold 45 {data_dir}/HBA1.fasta {data_dir}/HBB.fasta -graph png -goutfile {output_dir}/04_globin\n",
    "Image(filename=output_dir / '04_globin.1.png')"
   ]
  },
  {
   "cell_type": "markdown",
   "metadata": {},
   "source": [
    "#### Diskusi\n",
    "* Informasi apa yang dapat dijelaskan mengenai perbedaan α dan β-globin pada dot plot di atas?"
   ]
  },
  {
   "cell_type": "markdown",
   "metadata": {},
   "source": [
    "### 1.3 _Tandem Repeats_\n",
    "Visualisasi pensejajaran juga dapat kita gunakan untuk mempelajari bagian genom/DNA yang diulang _(repeated/inverted)_.\n",
    "Selanjutnya, kita akan mempelajari _repeats_ dari _human zinc finger protein Q9P255_.\n",
    "\n",
    "Sejajarkan protein dengan dirinya sendiri menggunakan script berikut:"
   ]
  },
  {
   "cell_type": "code",
   "execution_count": null,
   "metadata": {},
   "outputs": [],
   "source": [
    "! dotmatcher {data_dir}/Q9P255.fasta {data_dir}/Q9P255.fasta -graph png -goutfile {output_dir}/05_tandem_repeats\n",
    "Image(filename=output_dir / '05_tandem_repeats.1.png')"
   ]
  },
  {
   "cell_type": "markdown",
   "metadata": {},
   "source": [
    "Diskusi:\n",
    "* Bagaimana interpretasi dari pola yang dihasilkan?\n",
    "* Bagaimanakah distribusi dari repeats yang muncul? Lebih banyak pada ujung N atau C? Ada berapa repeats yang muncul?\n",
    "* Coba ubah _threshold value_ dan perhatikan pengaruhnya terhadap visualisasi pensejajaran alignment!"
   ]
  },
  {
   "cell_type": "code",
   "execution_count": null,
   "metadata": {},
   "outputs": [],
   "source": [
    "# write your code here:\n",
    "\n",
    "\n"
   ]
  },
  {
   "cell_type": "markdown",
   "metadata": {},
   "source": [
    "#### Klik link di bawah untuk kembali ke Modul Utama:\n",
    "### [BIC30007 - _Sequence Alignment Fundamentals, Algorithm, and Application_](http://ugm.id/BIC30007practical02)"
   ]
  }
 ],
 "metadata": {
  "kernelspec": {
   "display_name": "Python 3 (ipykernel)",
   "language": "python",
   "name": "python3"
  },
  "language_info": {
   "codemirror_mode": {
    "name": "ipython",
    "version": 3
   },
   "file_extension": ".py",
   "mimetype": "text/x-python",
   "name": "python",
   "nbconvert_exporter": "python",
   "pygments_lexer": "ipython3",
   "version": "3.10.2"
  }
 },
 "nbformat": 4,
 "nbformat_minor": 4
}
