{
 "cells": [
  {
   "cell_type": "markdown",
   "id": "403855f8-401a-4c30-8ce0-495c3753fe8d",
   "metadata": {},
   "source": [
    "# Pengantar Machine Learning\n",
    "### Capaian Pembelajaran:\n",
    "* _Mahasiswa mampu menggunakan bahasa pemrograman python untuk analisis Machine Learning sederhana dengan menggunakan PCA dan K-Means Clustering_\n",
    "* _Mahasiswa mampu menjelaskan struktur data (sampel, fitur, dan label)_\n",
    "* _Mahasiswa mampu menjelaskan kelebihan dan kekurangan dimensionality reduction dan clustering untuk menganalisis data biologis_\n",
    "\n",
    "### Deskripsi Modul\n",
    "Pada modul ini, kita akan belajar menggunakan metode machine learning sederhana dan mengaplikasikannya dalam klasifikasi spesies. Kita akan mengeksplor dataset dari bunga Iris yang mendeskripsikan hasil pengamatan morfologis (sepal dan petal) untuk mengklasifikasikan genus ini ke dalam tiga spesies: _Iris setosa_, _Iris versicolor_, dan _Iris virginosa_ .\n",
    "\n",
    "<img src=\"https://storage.googleapis.com/kaggle-datasets-images/19/19/default-backgrounds/dataset-card.jpg\" alt=\"drawing\" width=\"200\"/>\n",
    "\n",
    "### Outline\n",
    "- [ ] Dataset Cleaning & Exploratory Data Analysis (EDA)\n",
    "- [ ] Dimensionality Reduction: Principal Component Analysis\n",
    "- [ ] K-means Clustering\n",
    "\n",
    "### Referensi:\n",
    "*Modul ini diadaptasi dari*: https://www.kaggle.com/bburns/iris-exploration-pca-k-means-and-gmm-clustering\n"
   ]
  },
  {
   "cell_type": "code",
   "execution_count": null,
   "id": "06b9b273-299e-4ac7-8bdc-2648919771bb",
   "metadata": {},
   "outputs": [],
   "source": [
    "# Load Library\n",
    "import pandas as pd\n",
    "import numpy as np\n",
    "\n",
    "import seaborn as sns\n",
    "import matplotlib as mpl\n",
    "import matplotlib.pyplot as plt\n",
    "\n",
    "from sklearn import datasets\n",
    "from sklearn import preprocessing\n",
    "from sklearn.decomposition import PCA\n",
    "from sklearn.cluster import KMeans"
   ]
  },
  {
   "cell_type": "markdown",
   "id": "78b899b5-70ea-4a3e-9c83-ea2234a2bd51",
   "metadata": {},
   "source": [
    "## Dataset Cleaning & EDA"
   ]
  },
  {
   "cell_type": "code",
   "execution_count": null,
   "id": "5d31c3b9-f894-45f5-9107-12f2201d5d9b",
   "metadata": {},
   "outputs": [],
   "source": [
    "iris = datasets.load_iris()\n",
    "print(iris.DESCR)"
   ]
  },
  {
   "cell_type": "code",
   "execution_count": null,
   "id": "a14017fa-324b-47bc-b4e9-8823750e79c9",
   "metadata": {},
   "outputs": [],
   "source": [
    "# load data as pd DataFrame\n",
    "data = pd.DataFrame(data= np.c_[iris['data'], ['iris '+iris.target_names[i] for i in iris.target]],\n",
    "                     columns= iris['feature_names']+['species'])\n",
    "\n",
    "# transform string into float\n",
    "data.loc[:, data.columns[:4]] = data.loc[:, data.columns[:4]].astype('float')\n",
    "\n",
    "# show top 5 row\n",
    "data.head()"
   ]
  },
  {
   "cell_type": "code",
   "execution_count": null,
   "id": "38dea503-c2e3-4663-ad37-f42f3e22adbe",
   "metadata": {},
   "outputs": [],
   "source": [
    "# use seaborn to make scatter plot showing species for each sample\n",
    "sns.set(style=\"ticks\", color_codes=True)\n",
    "\n",
    "sns.pairplot(data, hue=\"species\", diag_kind=\"hist\")\n",
    "\n",
    "plt.show()\n",
    "\n",
    "# so again, this shows how similar versicolor and virginica are, at least with the given features.\n",
    "# but there could be features that you didn't measure that would more clearly separate the species.\n",
    "# it's the same for any unsupervised learning - you need to have the right features\n",
    "# to separate the groups in the best way."
   ]
  },
  {
   "cell_type": "markdown",
   "id": "938ee95a-3a1c-4964-90e2-6f1199f54204",
   "metadata": {},
   "source": [
    "## Diskusi\n",
    "* Dataset ini memiliki berapa dimensi? Berapa sampel dan fitur?\n",
    "* Berdasarkan pairplot, fitur/karakter apa yg baik untuk membedakan spesies tersebut?"
   ]
  },
  {
   "cell_type": "markdown",
   "id": "bcd1d4aa-474c-44df-acb2-49252a190b64",
   "metadata": {},
   "source": [
    "## Dimensionality Reduction: PCA"
   ]
  },
  {
   "cell_type": "code",
   "execution_count": null,
   "id": "f5751d9a-0e2e-4b40-8466-47a30ac4041b",
   "metadata": {},
   "outputs": [],
   "source": [
    "# split data into features (X) and labels (y)\n",
    "X = iris.data\n",
    "Y = iris.target"
   ]
  },
  {
   "cell_type": "code",
   "execution_count": null,
   "id": "609564d1-8731-41ad-b39b-a65dcb21d4d4",
   "metadata": {},
   "outputs": [],
   "source": [
    "# the data is unbalanced (eg sepallength ~4x petalwidth), so should do feature scaling,\n",
    "# otherwise the larger features will dominate the others in clustering, etc.\n",
    "scaler = preprocessing.StandardScaler()\n",
    "\n",
    "scaler.fit(X)\n",
    "X_scaled_array = scaler.transform(X)\n",
    "X_scaled = pd.DataFrame(X_scaled_array, columns = iris['feature_names'])\n",
    "\n",
    "X_scaled.sample(5)"
   ]
  },
  {
   "cell_type": "code",
   "execution_count": null,
   "id": "5b85beb7-70bc-49ed-a739-026d5c41e141",
   "metadata": {},
   "outputs": [],
   "source": [
    "# mash the data down into 2 dimensions\n",
    "# if you have a lot of features it can be helpful to do some feature reduction\n",
    "# to avoid the curse of dimensionality (i.e. needing exponentially more data\n",
    "# to do accurate predictions as the number of features grows).\n",
    "\n",
    "# you can do this with Principal Component Analysis (PCA), which remaps the data\n",
    "# to a new (smaller) coordinate system which tries to account for the\n",
    "# most information possible.\n",
    "\n",
    "# you can *also* use PCA to visualize the data by reducing the \n",
    "# features to 2 dimensions and making a scatterplot. \n",
    "# it kind of mashes the data down into 2d, so can lose \n",
    "# information - but in this case it's just going from 4d to 2d, \n",
    "# so not losing too much info. \n",
    "seed = 0\n",
    "ndimensions = 2\n",
    "\n",
    "pca = PCA(n_components=ndimensions, random_state=seed)\n",
    "pca.fit(X_scaled)\n",
    "X_pca_array = pca.transform(X_scaled)\n",
    "X_pca = pd.DataFrame(X_pca_array, columns=['PC1','PC2']) # PC=principal component\n",
    "X_pca.sample(5)"
   ]
  },
  {
   "cell_type": "markdown",
   "id": "60c76f83-eb17-47c9-b70b-70288c9349c4",
   "metadata": {},
   "source": [
    "## K-Means Clustering"
   ]
  },
  {
   "cell_type": "code",
   "execution_count": null,
   "id": "434a7f7c-b206-45d3-be86-3dffbb94e4a3",
   "metadata": {},
   "outputs": [],
   "source": [
    "nclusters = 3 # this is the k in kmeans\n",
    "\n",
    "\n",
    "km = KMeans(n_clusters=nclusters, random_state=seed)\n",
    "km.fit(X_scaled)\n",
    "\n",
    "# predict the cluster for each data point\n",
    "y_cluster_kmeans = km.predict(X_scaled)\n",
    "y_cluster_kmeans"
   ]
  },
  {
   "cell_type": "code",
   "execution_count": null,
   "id": "0948a2a5-f76b-4e27-b8fb-789291b0ed75",
   "metadata": {},
   "outputs": [],
   "source": [
    "# first, convert species to an arbitrary number\n",
    "y_id_array = Y\n",
    "\n",
    "df_plot = X_pca.copy()\n",
    "df_plot['ClusterKmeans'] = y_cluster_kmeans\n",
    "df_plot['SpeciesId'] = y_id_array # also add actual labels so we can use it in later plots\n",
    "df_plot.sample(5)"
   ]
  },
  {
   "cell_type": "code",
   "execution_count": null,
   "id": "d628c629-e296-49d4-bdf4-f447385dcce4",
   "metadata": {},
   "outputs": [],
   "source": [
    "# so now we can make a 2d scatterplot of the clusters\n",
    "# first define a plot fn\n",
    "\n",
    "def plotData(df, groupby):\n",
    "    \"make a scatterplot of the first two principal components of the data, colored by the groupby field\"\n",
    "    \n",
    "    # make a figure with just one subplot.\n",
    "    # you can specify multiple subplots in a figure, \n",
    "    # in which case ax would be an array of axes,\n",
    "    # but in this case it'll just be a single axis object.\n",
    "    fig, ax = plt.subplots(figsize = (7,7))\n",
    "\n",
    "    # color map\n",
    "    cmap = mpl.cm.get_cmap('prism')\n",
    "\n",
    "    # we can use pandas to plot each cluster on the same graph.\n",
    "    # see http://pandas.pydata.org/pandas-docs/stable/generated/pandas.DataFrame.plot.html\n",
    "    for i, cluster in df.groupby(groupby):\n",
    "        cluster.plot(ax = ax, # need to pass this so all scatterplots are on same graph\n",
    "                     kind = 'scatter', \n",
    "                     x = 'PC1', y = 'PC2',\n",
    "                     color = cmap(i/(nclusters-1)), # cmap maps a number to a color\n",
    "                     label = \"%s %i\" % (groupby, i), \n",
    "                     s=30) # dot size\n",
    "    ax.grid()\n",
    "    ax.axhline(0, color='black')\n",
    "    ax.axvline(0, color='black')\n",
    "    ax.set_title(\"Principal Components Analysis (PCA) of Iris Dataset\");"
   ]
  },
  {
   "cell_type": "code",
   "execution_count": null,
   "id": "a8674280-44fa-4772-a7e5-107ca4c23bdb",
   "metadata": {},
   "outputs": [],
   "source": [
    "# plot the clusters each datapoint was assigned to\n",
    "plotData(df_plot, 'ClusterKmeans')\n",
    "plotData(df_plot, 'SpeciesId')"
   ]
  },
  {
   "cell_type": "markdown",
   "id": "9433dff0-abb7-459e-af45-ca8f6fb53bfe",
   "metadata": {},
   "source": [
    "## Diskusi\n",
    "* Kenapa perlu dilakukan standarisasi/normalisasi data sebelum melakukan PCA?\n",
    "* Data Iris memiliki 4 fitur (dimensi). Apakah kita dapat melakukan visualisasi 4 dimensi? \n",
    "* Bagaimanakah data Iris yang memiliki 4 fitur direduksi menjadi dua dimensi? Apa yang dimaksud dengan PC1 & PC2? Apakah hasil PCA juga dapat diproyeksikan dalam tiga dimensi?\n",
    "* Menurutmu, pairplot mana yang paling mirip dengan hasiL PCA?\n",
    "* Apa resiko dalam menggunakan PCA?\n",
    "* Berdasarkan informasi yang kita berikan, apakah K-means clustering dapat mengklasifikasikan spesies dengan baik?\n",
    "* Apakah metode analisis di atas dapat diaplikasikan ke jenis data biologis yang lain?\n",
    "* Apakah ada metode dimensionality reduction dan clustering yang lebih baik?"
   ]
  }
 ],
 "metadata": {
  "kernelspec": {
   "display_name": "Python 3 (ipykernel)",
   "language": "python",
   "name": "python3"
  },
  "language_info": {
   "codemirror_mode": {
    "name": "ipython",
    "version": 3
   },
   "file_extension": ".py",
   "mimetype": "text/x-python",
   "name": "python",
   "nbconvert_exporter": "python",
   "pygments_lexer": "ipython3",
   "version": "3.10.2"
  }
 },
 "nbformat": 4,
 "nbformat_minor": 5
}
