{
 "cells": [
  {
   "cell_type": "markdown",
   "id": "eastern-lincoln",
   "metadata": {},
   "source": [
    "# Student Activity\n",
    "> Cell Types: [Holmes et al. (2005)](https://www.pnas.org/content/102/15/5519) studied gene expression profiles of sorted T-cell populations from different subjects. The columns are a subset of gene expression measurements, they correspond to 156 genes that show differential expression between cell types.\n",
    "\n",
    "- Dataset: [../data/Msig3transp.csv](../data/Msig3transp.csv)\n",
    "- Metadata:\n",
    "    - Status = Healthy & Melanoma\n",
    "    - Cell Types = Naive, Effector, Memory\n",
    "    \n",
    "- Your task:\n",
    "    - Find out whether gene expression profiles reflects those of status or cell types!\n",
    "    - Do you find sample that seems mislabelled?"
   ]
  },
  {
   "cell_type": "code",
   "execution_count": null,
   "id": "comparative-barrier",
   "metadata": {},
   "outputs": [],
   "source": [
    "# load library\n",
    "import pandas as pd\n",
    "\n",
    "import seaborn as sns\n",
    "import matplotlib as mpl\n",
    "import matplotlib.pyplot as plt\n",
    "\n",
    "from sklearn import datasets\n",
    "from sklearn import preprocessing\n",
    "from sklearn.decomposition import PCA\n",
    "from sklearn.cluster import KMeans"
   ]
  },
  {
   "cell_type": "markdown",
   "id": "mature-security",
   "metadata": {},
   "source": [
    "## Cleaning & EDA"
   ]
  },
  {
   "cell_type": "code",
   "execution_count": null,
   "id": "fitting-bradford",
   "metadata": {},
   "outputs": [],
   "source": [
    "# load data\n",
    "raw = pd.read_csv('../data') #load data here #!!!\n",
    "#raw = raw.rename(columns={'Unnamed: 0':'sample'}) #rename first columns #!!!\n",
    "raw.head(1)"
   ]
  },
  {
   "cell_type": "code",
   "execution_count": null,
   "id": "marked-prefix",
   "metadata": {},
   "outputs": [],
   "source": [
    "metadata = pd.DataFrame(data=[[i[:3], i[6:9]] for i in raw['sample']], columns=['status','cell_types']) #extract metadata from first column\n",
    "#metadata.head(1)"
   ]
  },
  {
   "cell_type": "code",
   "execution_count": null,
   "id": "wired-decimal",
   "metadata": {},
   "outputs": [],
   "source": [
    "data = raw.merge(metadata, left_index=True, right_index=True).set_index('sample') #merge into 1 dataframe\n",
    "#data.head(1)"
   ]
  },
  {
   "cell_type": "code",
   "execution_count": null,
   "id": "given-milwaukee",
   "metadata": {},
   "outputs": [],
   "source": [
    "raw = raw.set_index('sample')\n",
    "#raw.head(1)"
   ]
  },
  {
   "cell_type": "code",
   "execution_count": null,
   "id": "stopped-nothing",
   "metadata": {},
   "outputs": [],
   "source": [
    "sns.set_theme()\n",
    "sns.heatmap(data.drop(columns=['status', 'cell_types']))\n",
    "plt.show()"
   ]
  },
  {
   "cell_type": "markdown",
   "id": "outside-supervision",
   "metadata": {},
   "source": [
    "## PCA"
   ]
  },
  {
   "cell_type": "code",
   "execution_count": null,
   "id": "aquatic-acquisition",
   "metadata": {},
   "outputs": [],
   "source": [
    "# split data into features (X) and labels (y)\n",
    "X = raw.values\n",
    "Y = metadata.values"
   ]
  },
  {
   "cell_type": "code",
   "execution_count": null,
   "id": "differential-guest",
   "metadata": {},
   "outputs": [],
   "source": [
    "# feature scaling\n",
    "scaler = preprocessing.StandardScaler()\n",
    "\n",
    "scaler.fit(X)\n",
    "X_scaled_array = scaler.transform(X)\n",
    "X_scaled = pd.DataFrame(X_scaled_array, columns = ) #masukkan kolom nama gen #!!!\n",
    "\n",
    "X_scaled.head(5)"
   ]
  },
  {
   "cell_type": "code",
   "execution_count": null,
   "id": "casual-lesson",
   "metadata": {},
   "outputs": [],
   "source": [
    "seed = 0\n",
    "ndimensions = 2\n",
    "\n",
    "pca = PCA(n_components=ndimensions, random_state=seed)\n",
    "pca.fit(X_scaled)\n",
    "X_pca_array = pca.transform(X_scaled)\n",
    "X_pca = pd.DataFrame(X_pca_array, columns=['PC1','PC2']) # PC=principal component\n",
    "X_pca.sample(5)"
   ]
  },
  {
   "cell_type": "markdown",
   "id": "veterinary-apartment",
   "metadata": {},
   "source": [
    "## K-Means Clustering"
   ]
  },
  {
   "cell_type": "code",
   "execution_count": null,
   "id": "finite-bronze",
   "metadata": {},
   "outputs": [],
   "source": [
    "nclusters = # this is the k in kmeans #!!!\n",
    "\n",
    "\n",
    "km = KMeans(n_clusters=nclusters, random_state=seed)\n",
    "km.fit(X_scaled)\n",
    "\n",
    "# predict the cluster for each data point\n",
    "y_cluster_kmeans = km.predict(X_scaled)\n",
    "y_cluster_kmeans"
   ]
  },
  {
   "cell_type": "code",
   "execution_count": null,
   "id": "integral-wednesday",
   "metadata": {},
   "outputs": [],
   "source": [
    "Y1 = pd.Categorical(data['status'].values).codes\n",
    "y_id_array1 = Y1\n",
    "Y2 = #!!!\n",
    "y_id_array2 = Y2\n",
    "\n",
    "df_plot = X_pca.copy()\n",
    "df_plot['ClusterKmeans'] = y_cluster_kmeans\n",
    "df_plot['status'] = y_id_array1 # also add actual labels so we can use it in later plots\n",
    "df_plot['cell_types'] = #!!!\n",
    "df_plot.sample(5)"
   ]
  },
  {
   "cell_type": "markdown",
   "id": "hollywood-large",
   "metadata": {},
   "source": [
    "## Visualization"
   ]
  },
  {
   "cell_type": "code",
   "execution_count": null,
   "id": "suspended-extent",
   "metadata": {},
   "outputs": [],
   "source": [
    "def plotData(df, groupby):\n",
    "    \"make a scatterplot of the first two principal components of the data, colored by the groupby field\"\n",
    "    \n",
    "    # make a figure with just one subplot.\n",
    "    # you can specify multiple subplots in a figure, \n",
    "    # in which case ax would be an array of axes,\n",
    "    # but in this case it'll just be a single axis object.\n",
    "    fig, ax = plt.subplots(figsize = (7,7))\n",
    "\n",
    "    # color map\n",
    "    cmap = mpl.cm.get_cmap('prism')\n",
    "\n",
    "    # we can use pandas to plot each cluster on the same graph.\n",
    "    # see http://pandas.pydata.org/pandas-docs/stable/generated/pandas.DataFrame.plot.html\n",
    "    for i, cluster in df.groupby(groupby):\n",
    "        cluster.plot(ax = ax, # need to pass this so all scatterplots are on same graph\n",
    "                     kind = 'scatter', \n",
    "                     x = 'PC1', y = 'PC2',\n",
    "                     color = cmap(i/(nclusters-1)), # cmap maps a number to a color\n",
    "                     label = \"%s %i\" % (groupby, i), \n",
    "                     s=30) # dot size\n",
    "    ax.grid()\n",
    "    ax.axhline(0, color='black')\n",
    "    ax.axvline(0, color='black')\n",
    "    ax.set_title(\"Principal Components Analysis\");"
   ]
  },
  {
   "cell_type": "code",
   "execution_count": null,
   "id": "anonymous-tours",
   "metadata": {},
   "outputs": [],
   "source": [
    "# plot the clusters each datapoint was assigned to\n",
    "plotData(df_plot, 'ClusterKmeans')\n",
    "plotData(df_plot, 'status')\n",
    "plotData(df_plot) #!!!"
   ]
  },
  {
   "cell_type": "markdown",
   "id": "accurate-cassette",
   "metadata": {},
   "source": [
    "## Diskusi\n",
    "* Dataset ini memiliki berapa dimensi? Berapa sampel dan fitur? \n",
    "* Berdasarkan pairplot, fitur/karakter apa yg baik untuk membedakan status/cell type tersebut? \n",
    "* Berdasarkan informasi yang kita berikan, apakah K-means clustering dapat mengklasifikasikan status/cell type dengan baik?\n",
    "* Apakah ada metode dimensionality reduction dan clustering yang lebih baik? "
   ]
  },
  {
   "cell_type": "markdown",
   "id": "great-emerald",
   "metadata": {},
   "source": [
    "## Jawaban\n"
   ]
  },
  {
   "cell_type": "code",
   "execution_count": null,
   "id": "reasonable-optics",
   "metadata": {},
   "outputs": [],
   "source": []
  }
 ],
 "metadata": {
  "kernelspec": {
   "display_name": "Python 3",
   "language": "python",
   "name": "python3"
  },
  "language_info": {
   "codemirror_mode": {
    "name": "ipython",
    "version": 3
   },
   "file_extension": ".py",
   "mimetype": "text/x-python",
   "name": "python",
   "nbconvert_exporter": "python",
   "pygments_lexer": "ipython3",
   "version": "3.7.9"
  }
 },
 "nbformat": 4,
 "nbformat_minor": 5
}
